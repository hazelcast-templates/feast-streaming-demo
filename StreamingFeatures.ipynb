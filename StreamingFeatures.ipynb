{
 "cells": [
  {
   "cell_type": "markdown",
   "id": "d2575f2e-d1ea-42ed-a2c0-1130f4f174f4",
   "metadata": {},
   "source": [
    "# Hazelcast Feast Integration Streaming Features Demo"
   ]
  },
  {
   "cell_type": "markdown",
   "id": "d02adeb0-dcb6-4330-bd65-e657f1926ff2",
   "metadata": {},
   "source": [
    "## Setup\n",
    "\n",
    "* Offline store: Postgresql\n",
    "* Online store: Hazelcast\n",
    "\n",
    "Hazelcast runs as a single member cluster."
   ]
  },
  {
   "cell_type": "markdown",
   "id": "a37c4f86-7f2f-4cfc-84c1-4d44a48f36dc",
   "metadata": {},
   "source": [
    "## Demo Data\n",
    "\n",
    "Syntethically generated credit card transaction data encoded as [JSON lines](https://jsonlines.org/).\n",
    "\n",
    "The data is streamed in the `transaction` Kafka topic.\n",
    "```json\n",
    "{\n",
    "  \"acct_num\": \"BELQ94233230477440\",\n",
    "  \"amt\": 1217.6299129927615,\n",
    "  \"unix_time\": 1721610473\n",
    "}\n",
    "```\n",
    "\n",
    "You can peek some of the data streaming in the `transaction` topic using the following command:"
   ]
  },
  {
   "cell_type": "code",
   "execution_count": null,
   "id": "ae8102e0-15d9-4158-90ac-703edec4baa6",
   "metadata": {},
   "outputs": [],
   "source": [
    "! kafkactl consume transaction --tail 5"
   ]
  },
  {
   "cell_type": "markdown",
   "id": "d0f8ba8a-2c5f-4191-b2c6-7172e88899d9",
   "metadata": {},
   "source": [
    "## Offline Feature Storage\n",
    "\n",
    "Offline features are stored in PostgreSQL tables.\n",
    "The tables are populated by Hazelcast Jet jobs that read data from files and transforming them to create the features.\n",
    "\n",
    "The tables are defined as follows:\n",
    "\n",
    "```\n",
    "create table user_transaction_count_7d (\n",
    "    id serial primary key,\n",
    "    user_id text,\n",
    "    transaction_count_7d integer,\n",
    "    feature_timestamp timestamp\n",
    ");\n",
    "```\n",
    "\n",
    "That table was already created when starting the PostgreSQL container in this demo."
   ]
  },
  {
   "cell_type": "markdown",
   "id": "3402f01a-a155-473c-84aa-91463d0b7c61",
   "metadata": {},
   "source": [
    "## Feast Setup\n",
    "\n",
    "The Feast project is in the `feature_repo` directory.\n",
    "You can take a look at the Feast configuration using the following command:"
   ]
  },
  {
   "cell_type": "code",
   "execution_count": null,
   "id": "667e1ba8-9d03-47db-bcdd-ad2d60ad4f1e",
   "metadata": {},
   "outputs": [],
   "source": [
    "! cat feature_repo/feature_store.yaml"
   ]
  },
  {
   "cell_type": "markdown",
   "id": "b1ea3be4-e622-4d9c-9e44-96c939488b8c",
   "metadata": {},
   "source": [
    "The feature views are defined in the `features.py` file.\n",
    "Run the following command to see its contents:"
   ]
  },
  {
   "cell_type": "code",
   "execution_count": null,
   "id": "475feeab-f323-4e98-8186-b38f006f8bbf",
   "metadata": {},
   "outputs": [],
   "source": "! cat feature_repo/features.py"
  },
  {
   "cell_type": "markdown",
   "id": "6d86b718-c37c-4ded-abd5-53871ba15f4d",
   "metadata": {},
   "source": [
    "Before being able to use features, you must run the following command:"
   ]
  },
  {
   "cell_type": "code",
   "execution_count": null,
   "id": "8c7f37ca-e672-4220-931d-e79f83899fa4",
   "metadata": {},
   "outputs": [],
   "source": [
    "! feast -c feature_repo apply"
   ]
  },
  {
   "cell_type": "markdown",
   "id": "e0a2be59-c270-47c8-a628-6490ddadbe17",
   "metadata": {},
   "source": [
    "At this point, you are ready to start the feature server.\n",
    "Due to Jupyter Notebook limitations, you have to run the command in a separate process.\n",
    "The command below is equivalent to:\n",
    "```\n",
    "feast -c feature_repo serve -h 0.0.0.0 -p 6566 --no-access-log\n",
    "```"
   ]
  },
  {
   "cell_type": "code",
   "execution_count": null,
   "id": "f8ed02b3-8d97-4bba-bd86-1afded4c89e6",
   "metadata": {},
   "outputs": [],
   "source": [
    "import subprocess\n",
    "feature_server = subprocess.Popen(\n",
    "    [\"feast\", \"-c\", \"feature_repo\", \"serve\", \"-h\", \"0.0.0.0\", \"-p\",  \"6566\", \"--no-access-log\"],\n",
    "    stderr=subprocess.DEVNULL\n",
    ")"
   ]
  },
  {
   "cell_type": "markdown",
   "id": "1be5f9f9-fac8-420c-8580-7cf149504dd5",
   "metadata": {},
   "source": [
    "## Jet Job\n",
    "\n",
    "The Jet job create `user_transaction_count` from the transactions streaming in the Kafka topic `transaction`.\n",
    "You can see how the pipeline is defined by running the following command:"
   ]
  },
  {
   "cell_type": "code",
   "id": "923dedc4-c225-460d-ad42-82b69889612d",
   "metadata": {
    "jupyter": {
     "is_executing": true
    }
   },
   "source": "! cat jet/streaming_features/src/main/java/com/example/Main.java",
   "outputs": [],
   "execution_count": null
  },
  {
   "cell_type": "markdown",
   "id": "7301974c-99eb-48bc-ab85-660cba1a35fc",
   "metadata": {},
   "source": [
    "You have to compile the Java code that creates the Jet pipeline.\n",
    "We provided an easy-to-use script to do that from this Jupyter Notebook:"
   ]
  },
  {
   "cell_type": "code",
   "execution_count": null,
   "id": "24cb089d-fa27-47ee-b7d7-dd10d6f80956",
   "metadata": {},
   "outputs": [],
   "source": "! run build_jet streaming_features"
  },
  {
   "cell_type": "markdown",
   "id": "20c965f8-6f99-4863-b0a8-a04148270c4f",
   "metadata": {},
   "source": [
    "You can now run create the Jet pipeline and run the jobs:"
   ]
  },
  {
   "cell_type": "code",
   "execution_count": null,
   "id": "66d70163-127f-4246-9a42-78088f929fb2",
   "metadata": {},
   "outputs": [],
   "source": "! clc job submit --name transform_features build/jet/streaming_features/libs/*.jar http://demo:6566 kafka:19092"
  },
  {
   "cell_type": "markdown",
   "id": "ceb843cd-676d-4209-b5da-b3c26c0129d9",
   "metadata": {},
   "source": [
    "You can list the running jobs and verify that the jobs completed successfully using the following command:"
   ]
  },
  {
   "cell_type": "code",
   "execution_count": null,
   "id": "70874e4b-2f9d-43b7-a560-528e73e1ba6c",
   "metadata": {},
   "outputs": [],
   "source": [
    "! clc job list"
   ]
  },
  {
   "cell_type": "markdown",
   "id": "3ff9efaf-2aff-4045-9889-63a8c6261296",
   "metadata": {},
   "source": "## Checking the created features"
  },
  {
   "cell_type": "markdown",
   "id": "84050d06-b924-4822-ac7f-ad1b8a9e40a9",
   "metadata": {},
   "source": [
    "Running the command above created a bunch of Maps in the Hazelcasst cluster, one for each feature.\n",
    "You can list them out using the following command:"
   ]
  },
  {
   "cell_type": "code",
   "execution_count": null,
   "id": "7ae17a34-8752-4db8-b08c-5dadb26fea5c",
   "metadata": {},
   "outputs": [],
   "source": [
    "! clc object list map"
   ]
  },
  {
   "cell_type": "markdown",
   "id": "64d0da37-6720-4f05-8848-9d5ab30c02e9",
   "metadata": {},
   "source": "And check one of the feature Maps:"
  },
  {
   "cell_type": "code",
   "execution_count": null,
   "id": "c88dc7da-00ca-4e53-8765-70113d2c0b22",
   "metadata": {},
   "outputs": [],
   "source": "! clc map -n feast_streaming_user_transaction_count_7d entry-set | head -10"
  },
  {
   "metadata": {},
   "cell_type": "markdown",
   "source": "You can retrieve features from the feature server in a human-readable format:",
   "id": "d8886320f6ab1619"
  },
  {
   "metadata": {},
   "cell_type": "code",
   "outputs": [],
   "execution_count": null,
   "source": [
    "! curl \"http://localhost:6566/get-online-features\" -d \\\n",
    "'{\\\n",
    "    \"features\": [\\\n",
    "      \"user_transaction_count_7d:transaction_count_7d\"\\\n",
    "    ],\\\n",
    "    \"entities\": {\\\n",
    "      \"user_id\": [\"EBJD80665876768751\", \"YVCV56500100273531\", \"QRQP56813768247223\"]\\\n",
    "    }\\\n",
    " }' | jq"
   ],
   "id": "787fc50cc99802a3"
  },
  {
   "cell_type": "markdown",
   "id": "49670b0e-5b50-4eec-a255-1ef6f98f24fd",
   "metadata": {},
   "source": [
    "## What's Next?\n",
    "\n",
    "(Link to Hazelcast Feast documentation.)"
   ]
  }
 ],
 "metadata": {
  "kernelspec": {
   "display_name": "Python 3 (ipykernel)",
   "language": "python",
   "name": "python3"
  },
  "language_info": {
   "codemirror_mode": {
    "name": "ipython",
    "version": 3
   },
   "file_extension": ".py",
   "mimetype": "text/x-python",
   "name": "python",
   "nbconvert_exporter": "python",
   "pygments_lexer": "ipython3",
   "version": "3.12.3"
  }
 },
 "nbformat": 4,
 "nbformat_minor": 5
}
